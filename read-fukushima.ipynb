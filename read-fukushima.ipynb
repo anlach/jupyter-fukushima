{
 "cells": [
  {
   "cell_type": "code",
   "execution_count": null,
   "metadata": {},
   "outputs": [],
   "source": [
    "import pandas as pd\n",
    "import numpy as np"
   ]
  },
  {
   "cell_type": "code",
   "execution_count": null,
   "metadata": {},
   "outputs": [],
   "source": [
    "def read_hourly_data(unit):\n",
    "    df = pd.read_csv(\n",
    "        f\"data/csv_1h_data_{unit}u-e.csv\",\n",
    "        encoding='latin',\n",
    "        skiprows=[1, 2],\n",
    "    )\n",
    "    df = df[:-3]\n",
    "    \n",
    "    for i, col in enumerate(df.columns):\n",
    "        dashes = df[col] == \"-\"\n",
    "        df[col][dashes] = np.nan\n",
    "        try:\n",
    "            df[col] = pd.to_numeric(df[col])\n",
    "        except:\n",
    "            print(f\"Couldn't convert col {i}, {col} to numeric\")\n",
    "    \n",
    "    # Set time as index\n",
    "    time = pd.to_datetime(df[df.columns[0]])\n",
    "    time.name = 'Time'\n",
    "    df = df.set_index(time)\n",
    "    del df[df.columns[0]]\n",
    "    \n",
    "    return df"
   ]
  },
  {
   "cell_type": "code",
   "execution_count": null,
   "metadata": {},
   "outputs": [],
   "source": [
    "data = {}\n",
    "units = ['1', '2', '3', '56']\n",
    "for unit in units:\n",
    "    data[unit]=read_hourly_data(unit)"
   ]
  },
  {
   "cell_type": "code",
   "execution_count": null,
   "metadata": {},
   "outputs": [],
   "source": [
    "data['1'].head()"
   ]
  },
  {
   "cell_type": "code",
   "execution_count": null,
   "metadata": {},
   "outputs": [],
   "source": [
    "df = data['1']"
   ]
  },
  {
   "cell_type": "code",
   "execution_count": null,
   "metadata": {},
   "outputs": [],
   "source": [
    "import hvplot.pandas\n",
    "df.columns"
   ]
  },
  {
   "cell_type": "code",
   "execution_count": null,
   "metadata": {},
   "outputs": [],
   "source": [
    "df.hvplot(\n",
    "    y=[\n",
    "        'VESSEL BOTTOM HEAD(TE-263-69L1)', \n",
    "#        'VESSEL BOTTOM HEAD(TE-263-69L2)',\n",
    "#        'VESSEL ABOVE SKIRT JOINT(TE-263-69H1)',\n",
    "#        'VESSEL ABOVE SKIRT JOINT(TE-263-69H3)',\n",
    "#        'VESSEL DOWNCOMMER(TE-263-69G2)', \n",
    "#        'VESSEL DOWNCOMMER(TE-263-69G3)',\n",
    "       'Volume of water injection to RPV(FDW)',\n",
    "#        'Volume of water injection to RPV(CS)',\n",
    "       'Temperature in the water injection to the reactoriFDWj',\n",
    "#        'Temperature in the water injection to the reactoriCSj',\n",
    "#         'Radioactive concentration in PCV (Xe 135) System A[indicated value]',\n",
    "#        'Radioactive concentration in PCV (Xe 135) System A[detection limit]',\n",
    "#        'Radioactive concentration in PCV (Xe 135) System B[indicated value]',\n",
    "#        'Radioactive concentration in PCV (Xe 135) System B[detection limit]',\n",
    "      ],\n",
    "    width=900,\n",
    "    height=500,\n",
    ")"
   ]
  },
  {
   "cell_type": "code",
   "execution_count": null,
   "metadata": {},
   "outputs": [],
   "source": [
    "df.plot_bokeh(\n",
    "    y=[\n",
    "        'VESSEL BOTTOM HEAD(TE-263-69L1)', \n",
    "       'VESSEL BOTTOM HEAD(TE-263-69L2)',\n",
    "       'VESSEL ABOVE SKIRT JOINT(TE-263-69H1)',\n",
    "       'VESSEL ABOVE SKIRT JOINT(TE-263-69H3)',\n",
    "       'VESSEL DOWNCOMMER(TE-263-69G2)', \n",
    "       'VESSEL DOWNCOMMER(TE-263-69G3)',\n",
    "       'Volume of water injection to RPV(FDW)',\n",
    "       'Volume of water injection to RPV(CS)',\n",
    "       'Temperature in the water injection to the reactoriFDWj',\n",
    "       'Temperature in the water injection to the reactoriCSj',\n",
    "#         'Radioactive concentration in PCV (Xe 135) System A[indicated value]',\n",
    "#        'Radioactive concentration in PCV (Xe 135) System A[detection limit]',\n",
    "#        'Radioactive concentration in PCV (Xe 135) System B[indicated value]',\n",
    "#        'Radioactive concentration in PCV (Xe 135) System B[detection limit]',\n",
    "      ], figsize=(900, 500))"
   ]
  },
  {
   "cell_type": "code",
   "execution_count": null,
   "metadata": {},
   "outputs": [],
   "source": []
  },
  {
   "cell_type": "code",
   "execution_count": null,
   "metadata": {},
   "outputs": [],
   "source": []
  }
 ],
 "metadata": {
  "kernelspec": {
   "display_name": "Python 3",
   "language": "python",
   "name": "python3"
  }
 },
 "nbformat": 4,
 "nbformat_minor": 4
}
