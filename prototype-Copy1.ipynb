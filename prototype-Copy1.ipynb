{
 "cells": [
  {
   "cell_type": "markdown",
   "metadata": {},
   "source": [
    "Run this cell to set everything up:"
   ]
  },
  {
   "cell_type": "code",
   "execution_count": null,
   "metadata": {},
   "outputs": [],
   "source": [
    "import pandas as pd\n",
    "import numpy as np\n",
    "from glob import glob\n",
    "import holoviews as hv\n",
    "import panel as pn\n",
    "import panel.widgets as pnw\n",
    "hv.extension(\"bokeh\")\n",
    "import os\n",
    "\n",
    "# Function to read files\n",
    "def read_fukushima_data(file_path):\n",
    "    return pd.read_csv(file_path, \n",
    "                 skiprows=[0,1,2],\n",
    "                 index_col=0, \n",
    "                 parse_dates=True,\n",
    "                 na_values=[\"ND\",\"-\"],\n",
    "                 encoding=\"utf-8\")\n",
    "\n",
    "# read all files in a directory (or in this case based on wildcards)\n",
    "file_list = glob(\"datafiles/*Unit[123]*\")\n",
    "#df_list = [read_fukushima_data(f) for f in file_list]\n",
    "\n",
    "# read the files into a dictionary of dataframes (they keys will be used in the GUI panels)\n",
    "df_dict = {}\n",
    "for f in file_list:\n",
    "    key = os.path.splitext(os.path.basename(f))[0]\n",
    "    df_dict[key] = read_fukushima_data(f)\n",
    "    \n",
    "file_labels = sorted(df_dict.keys())\n",
    "\n",
    "# only columns that each file has will be plottable\n",
    "common_columns = df_dict[file_labels[0]].columns\n",
    "for k in file_labels[1:]:\n",
    "    common_columns = common_columns.intersection(df_dict[k].columns)\n",
    "    \n",
    "columns = sorted(common_columns)\n",
    "discrete = [x for x in columns if df_dict[file_labels[0]][x].dtype == object]\n",
    "continuous = [x for x in columns if x not in discrete]\n",
    "quantileable = [x for x in continuous if len(df_dict[file_labels[0]][x].unique()) > 20]\n",
    "\n",
    "# method to create a panel\n",
    "x = \"Date\"\n",
    "def create_comparison():\n",
    "    y = pnw.CheckBoxGroup(name=\"Y-Axis\", value=[quantileable[0]], options=quantileable, width_policy=\"fit\")\n",
    "    file_label = pnw.CheckBoxGroup(name=\"File\", value=[file_labels[0]], options=file_labels, width_policy=\"fit\")\n",
    "\n",
    "    @pn.depends(file_label.param.value, y.param.value)\n",
    "    def create_figure(file_label, y):\n",
    "        if (len(file_label) == 0) or (len(y) == 0):\n",
    "                return\n",
    "        curve_list = []\n",
    "        for fl in file_label:\n",
    "            curve_list += [hv.Curve(df_dict[fl], [x, y], label=\"{}, {}\".format(fl, y)) for y in y]\n",
    "        return hv.Overlay(curve_list).opts(frame_width=600, frame_height=450, legend_position=\"right\")\n",
    "\n",
    "    #widgets = pn.WidgetBox(year, y)\n",
    "\n",
    "    return pn.Row(pn.Column(\"### File:\", file_label, \"### Y-Axis:\", y, width_policy=\"fit\"), create_figure, width_policy=\"fit\")"
   ]
  },
  {
   "cell_type": "markdown",
   "metadata": {},
   "source": [
    "Just run the \"create_comparison\" method to create a panel."
   ]
  },
  {
   "cell_type": "code",
   "execution_count": null,
   "metadata": {},
   "outputs": [],
   "source": [
    "create_comparison()"
   ]
  },
  {
   "cell_type": "code",
   "execution_count": null,
   "metadata": {},
   "outputs": [],
   "source": [
    "create_comparison()"
   ]
  },
  {
   "cell_type": "code",
   "execution_count": null,
   "metadata": {},
   "outputs": [],
   "source": [
    "create_comparison()"
   ]
  },
  {
   "cell_type": "code",
   "execution_count": null,
   "metadata": {},
   "outputs": [],
   "source": []
  }
 ],
 "metadata": {
  "kernelspec": {
   "display_name": "Python 3",
   "language": "python",
   "name": "python3"
  }
 },
 "nbformat": 4,
 "nbformat_minor": 4
}
