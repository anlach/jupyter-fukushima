{
 "cells": [
  {
   "cell_type": "code",
   "execution_count": null,
   "metadata": {},
   "outputs": [],
   "source": [
    "import pandas as pd\n",
    "import numpy as np\n",
    "from glob import glob\n",
    "import holoviews as hv\n",
    "import panel as pn\n",
    "import panel.widgets as pnw\n",
    "hv.extension(\"bokeh\")\n",
    "\n",
    "def read_fukushima_data(file_path):\n",
    "    return pd.read_csv(file_path, \n",
    "                 skiprows=[1,2],\n",
    "                 index_col=0, \n",
    "                 parse_dates=True,\n",
    "                 na_values=[\"ND\",\"-\"],\n",
    "                 encoding=\"utf-8\")\n",
    "\n",
    "file_list = glob(\"fukushima_data/201[34]/*.csv\")\n",
    "df_list = [read_fukushima_data(f) for f in file_list]\n",
    "\n",
    "common_columns = df_list[0].columns\n",
    "df_dict = {}\n",
    "for d in df_list:\n",
    "    d.index.name = \"Date\"\n",
    "    df_dict[str(d.index[0].year)] = d\n",
    "    common_columns = common_columns.intersection(d.columns)\n",
    "\n",
    "years = sorted(df_dict.keys())\n",
    "\n",
    "\n",
    "columns = sorted(common_columns)\n",
    "discrete = [x for x in columns if df_list[0][x].dtype == object]\n",
    "continuous = [x for x in columns if x not in discrete]\n",
    "quantileable = [x for x in continuous if len(df_list[0][x].unique()) > 20]\n",
    "\n",
    "x = \"Date\"\n",
    "y = pnw.CheckBoxGroup(name=\"Y-Axis\", value=[quantileable[0]], options=quantileable)\n",
    "year = pnw.CheckBoxGroup(name=\"Year\", value=[years[0]], options=years, width=70)\n",
    "\n",
    "@pn.depends(year.param.value, y.param.value)\n",
    "def create_figure(year, y):\n",
    "    if (len(year) == 0) or (len(y) == 0):\n",
    "            return\n",
    "    curve_list = []\n",
    "    for yr in year:\n",
    "        curve_list += [hv.Curve(df_dict[yr], [x, y]) for y in y]\n",
    "    return hv.Overlay(curve_list).opts(width=600, height=450)\n",
    "    \n",
    "#widgets = pn.WidgetBox(year, y)\n",
    "\n",
    "pn.Row(pn.Column(\"### Year:\", year), pn.Column(\"### Y-Axis:\", y), create_figure)"
   ]
  },
  {
   "cell_type": "code",
   "execution_count": null,
   "metadata": {},
   "outputs": [],
   "source": []
  }
 ],
 "metadata": {
  "kernelspec": {
   "display_name": "Python 3",
   "language": "python",
   "name": "python3"
  }
 },
 "nbformat": 4,
 "nbformat_minor": 4
}
